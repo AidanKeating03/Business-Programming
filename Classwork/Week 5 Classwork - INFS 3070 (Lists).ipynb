{
 "cells": [
  {
   "cell_type": "markdown",
   "id": "affa42be-ffa5-4a1a-a69f-22e1768e5f12",
   "metadata": {},
   "source": [
    "# List Examples"
   ]
  },
  {
   "cell_type": "code",
   "execution_count": 1,
   "id": "cc10d296-5da8-4c3a-87da-6b26b63e7ef6",
   "metadata": {},
   "outputs": [
    {
     "name": "stdout",
     "output_type": "stream",
     "text": [
      "['Jeep', 'F350', 'Ram']\n"
     ]
    }
   ],
   "source": [
    "cars = ['Jeep', 'F350', 'Ram']\n",
    "\n",
    "print(cars)"
   ]
  },
  {
   "cell_type": "code",
   "execution_count": 2,
   "id": "1c84805c-74b1-4d65-9cf2-d50b68543576",
   "metadata": {},
   "outputs": [
    {
     "name": "stdout",
     "output_type": "stream",
     "text": [
      "F350\n"
     ]
    }
   ],
   "source": [
    "# Retrieve a specific list element\n",
    "\n",
    "print(cars[1])"
   ]
  },
  {
   "cell_type": "code",
   "execution_count": 3,
   "id": "e160e34c-df11-4430-ba0e-a0be65e76fe3",
   "metadata": {},
   "outputs": [
    {
     "name": "stdout",
     "output_type": "stream",
     "text": [
      "['Jeep', 'F350', 'Ram']\n"
     ]
    }
   ],
   "source": [
    "# Select a range within my list\n",
    "\n",
    "print(cars[0:3])"
   ]
  },
  {
   "cell_type": "code",
   "execution_count": 4,
   "id": "a9ee6ae3-1c9a-4744-b621-2d9515014c7e",
   "metadata": {},
   "outputs": [
    {
     "name": "stdout",
     "output_type": "stream",
     "text": [
      "['Jeep', 'Motorcycle', 'Ram']\n"
     ]
    }
   ],
   "source": [
    "# Add values to a list\n",
    "\n",
    "cars[1] = 'Motorcycle'\n",
    "\n",
    "print(cars)"
   ]
  },
  {
   "cell_type": "markdown",
   "id": "e27bb8a0-b5c7-45f0-89e8-9401953d271c",
   "metadata": {},
   "source": [
    "# List Operations"
   ]
  },
  {
   "cell_type": "code",
   "execution_count": 5,
   "id": "042016e9-8516-4eea-ad1e-60c06e559571",
   "metadata": {},
   "outputs": [
    {
     "name": "stdout",
     "output_type": "stream",
     "text": [
      "I did not find jeep.\n"
     ]
    }
   ],
   "source": [
    "cars = ['Jeep', 'F350', 'Ram', 11]\n",
    "\n",
    "lookingFor = 'jeep'\n",
    "\n",
    "# 'f' represents a formatted strings\n",
    "\n",
    "if lookingFor in cars:\n",
    "    print(f\"{lookingFor} is in the list {cars}\")\n",
    "\n",
    "else:\n",
    "    print(f\"I did not find {lookingFor}.\")"
   ]
  },
  {
   "cell_type": "code",
   "execution_count": 6,
   "id": "808c8807-08e2-4cee-8cfc-eddf4621a197",
   "metadata": {},
   "outputs": [
    {
     "name": "stdout",
     "output_type": "stream",
     "text": [
      "I did not find  in the list\n"
     ]
    }
   ],
   "source": [
    "lookingFor = input(\"What car are you looking for?\")\n",
    "\n",
    "# Search and return the Index location\n",
    "\n",
    "if lookingFor in cars:\n",
    "    index_location = cars.index(lookingFor)\n",
    "    print(f\"{lookingFor} is in the list at index {index_location}\")\n",
    "else:\n",
    "    print(f\"I did not find {lookingFor} in the list\")"
   ]
  },
  {
   "cell_type": "code",
   "execution_count": 7,
   "id": "cbf13108-deed-4962-8772-d2ad4e9ef819",
   "metadata": {},
   "outputs": [
    {
     "name": "stdout",
     "output_type": "stream",
     "text": [
      "I did not find  in the list\n",
      "['Jeep', 'F350', 'Ram']\n",
      "['jeep', 'f350', 'ram']\n"
     ]
    }
   ],
   "source": [
    "# Process to ignore case sensitivity\n",
    "\n",
    "cars = ['Jeep', 'F350', 'Ram']\n",
    "lookingFor = input(\"What car are you looking for?\")\n",
    "\n",
    "# Convert the input and the list items to lower case\n",
    "lowerCars = [car.lower() for car in cars]\n",
    "lower_lookingFor = lookingFor.lower()\n",
    "\n",
    "if lower_lookingFor in lowerCars:\n",
    "    index_location = lowerCars.index(lower_lookingFor)\n",
    "    print(f\"{lookingFor} is in the list at index {index_location}\")\n",
    "else:\n",
    "    print(f\"I did not find {lookingFor} in the list\")\n",
    "\n",
    "print(cars)\n",
    "print(lowerCars)\n"
   ]
  },
  {
   "cell_type": "code",
   "execution_count": 8,
   "id": "8ef71afd-f9b1-49f8-8809-bfe56c400552",
   "metadata": {},
   "outputs": [
    {
     "name": "stdout",
     "output_type": "stream",
     "text": [
      "4\n",
      "3\n"
     ]
    }
   ],
   "source": [
    "# Return the length of a list\n",
    "\n",
    "s = [1, 2, 3, 4, 5]\n",
    "\n",
    "cars = ['Jeep', 'F350', 'Ram', [1, 2, 3, 4, 5]]\n",
    "\n",
    "print(len(cars))\n",
    "print(cars[3][2])"
   ]
  },
  {
   "cell_type": "code",
   "execution_count": 9,
   "id": "872f99a7-c3b7-454a-8d2e-b69f7cda577d",
   "metadata": {},
   "outputs": [
    {
     "name": "stdout",
     "output_type": "stream",
     "text": [
      "15\n"
     ]
    }
   ],
   "source": [
    "# If a list is all numeric values we can use methods to sum those values\n",
    "\n",
    "print(sum(s))"
   ]
  },
  {
   "cell_type": "markdown",
   "id": "2bc146f3-78d3-43b2-bbbf-5a1f3a1bf620",
   "metadata": {},
   "source": [
    "# List Methods"
   ]
  },
  {
   "cell_type": "code",
   "execution_count": 10,
   "id": "9ab7d774-7274-4a5f-8211-6c204d660d83",
   "metadata": {},
   "outputs": [
    {
     "name": "stdout",
     "output_type": "stream",
     "text": [
      "['Jeep', 'F350', 'Ram', 'Motorcycle']\n"
     ]
    }
   ],
   "source": [
    "cars = ['Jeep', 'F350', 'Ram']\n",
    "\n",
    "cars.append('Motorcycle')\n",
    "\n",
    "print(cars)"
   ]
  },
  {
   "cell_type": "code",
   "execution_count": 11,
   "id": "26cc270e-2e4f-4219-994b-25230a89e4b6",
   "metadata": {},
   "outputs": [
    {
     "name": "stdout",
     "output_type": "stream",
     "text": [
      "[1, 2, 3, 4, 5, 6]\n"
     ]
    }
   ],
   "source": [
    "# Combining information in two lists into one list\n",
    "\n",
    "list1 = [1, 2, 3]\n",
    "list2 = [4, 5, 6]\n",
    "\n",
    "list1.extend(list2)\n",
    "print(list1)"
   ]
  },
  {
   "cell_type": "code",
   "execution_count": 12,
   "id": "47512d9a-35a8-4d20-9d41-5c9d37a8c96a",
   "metadata": {},
   "outputs": [
    {
     "name": "stdout",
     "output_type": "stream",
     "text": [
      "['Jeep', 'Motorcycle', 'F350', 'Ram']\n"
     ]
    }
   ],
   "source": [
    "# Insert values at a specific index\n",
    "\n",
    "cars = ['Jeep', 'F350', 'Ram']\n",
    "cars.insert(1, 'Motorcycle')\n",
    "print(cars)"
   ]
  },
  {
   "cell_type": "markdown",
   "id": "d1b84ccd-4d42-4c24-b497-989dd981bb5b",
   "metadata": {},
   "source": [
    "# 2D List Examples"
   ]
  },
  {
   "cell_type": "code",
   "execution_count": 13,
   "id": "75972173-02de-4a03-a9b6-13cd7f99166d",
   "metadata": {},
   "outputs": [
    {
     "name": "stdout",
     "output_type": "stream",
     "text": [
      "[['Buell', 'G650', 'K120GT'], ['S10', 'Ram', 'F350'], ['Rubicon', 'CJ5']]\n"
     ]
    }
   ],
   "source": [
    "matrix = [\n",
    "    ['Buell', 'G650', 'K120GT'],\n",
    "    ['S10', 'Ram', 'F350'],\n",
    "    ['Rubicon', 'CJ5']\n",
    "]\n",
    "\n",
    "print(matrix)"
   ]
  },
  {
   "cell_type": "code",
   "execution_count": 14,
   "id": "fcbd9632-c734-474b-8429-ec756644b4b2",
   "metadata": {},
   "outputs": [
    {
     "name": "stdout",
     "output_type": "stream",
     "text": [
      "[['Buell', 'G650', 'K120GT'], ['S10', 'Ram', 'F350'], ['Rubicon', 'CJ5']]\n"
     ]
    }
   ],
   "source": [
    "motorcycles = ['Buell', 'G650', 'K120GT']\n",
    "trucks = ['S10', 'Ram', 'F350']\n",
    "jeeps = ['Rubicon', 'CJ5']\n",
    "\n",
    "\n",
    "vehicles = [motorcycles, trucks, jeeps]\n",
    "\n",
    "print(vehicles)"
   ]
  },
  {
   "cell_type": "markdown",
   "id": "709d75b9-d20b-4967-a0f4-25380174908f",
   "metadata": {},
   "source": [
    "# 3D List"
   ]
  },
  {
   "cell_type": "code",
   "execution_count": 15,
   "id": "9facf45f-1d7e-4a71-a888-ccf8ec23e45e",
   "metadata": {},
   "outputs": [
    {
     "name": "stdout",
     "output_type": "stream",
     "text": [
      "[[[1, 2, 3], [4, 5, 6]], [[7, 8, 9], [10, 11, 12]]]\n"
     ]
    }
   ],
   "source": [
    "cube = [\n",
    "    [\n",
    "        [1, 2, 3],\n",
    "        [4, 5, 6]\n",
    "    ],\n",
    "    [\n",
    "        [7, 8, 9],\n",
    "        [10, 11, 12]\n",
    "    ]\n",
    "]\n",
    "\n",
    "print(cube)"
   ]
  },
  {
   "cell_type": "code",
   "execution_count": 16,
   "id": "8715229d-91f4-4c30-9e47-b3030e1fe236",
   "metadata": {},
   "outputs": [
    {
     "name": "stdout",
     "output_type": "stream",
     "text": [
      "6\n"
     ]
    }
   ],
   "source": [
    "# Accessing elements with a 3D list\n",
    "\n",
    "element = cube[0][1][2]\n",
    "print(element)"
   ]
  },
  {
   "cell_type": "markdown",
   "id": "3608510d-758c-4b60-92a2-cc1ba2718c54",
   "metadata": {},
   "source": [
    "# Tuples examples"
   ]
  },
  {
   "cell_type": "code",
   "execution_count": 17,
   "id": "a5d79373-b866-4f20-a862-03419d2eab52",
   "metadata": {},
   "outputs": [
    {
     "name": "stdout",
     "output_type": "stream",
     "text": [
      "Bob\n"
     ]
    }
   ],
   "source": [
    "myTuple = [1, 'Bob', 3.14]\n",
    "\n",
    "print(myTuple[1])"
   ]
  },
  {
   "cell_type": "markdown",
   "id": "0f008ba3-a8f9-4007-9c8f-a47d5b6caa76",
   "metadata": {},
   "source": [
    "# Tuple immutability"
   ]
  },
  {
   "cell_type": "code",
   "execution_count": 18,
   "id": "0a7b1a70-df76-4bbc-b885-1351d0208ed7",
   "metadata": {},
   "outputs": [
    {
     "name": "stdout",
     "output_type": "stream",
     "text": [
      "[1, 'Bob', 3.14]\n",
      "[1, 'Fred', 3.14]\n"
     ]
    }
   ],
   "source": [
    "print(myTuple)\n",
    "\n",
    "# Try changing the values in the Tuple\n",
    "\n",
    "myTuple[1] = 'Fred'\n",
    "print(myTuple)"
   ]
  },
  {
   "cell_type": "code",
   "execution_count": 19,
   "id": "badf3df1-1b32-40ed-b120-539d47eda391",
   "metadata": {},
   "outputs": [
    {
     "name": "stdout",
     "output_type": "stream",
     "text": [
      "(1, 'Fred', 3.14)\n"
     ]
    }
   ],
   "source": [
    "# Workaround to change Tuple values\n",
    "\n",
    "myList = list(myTuple)\n",
    "myList[1] = 'Fred'\n",
    "myTuple = tuple(myList)\n",
    "print(myTuple)"
   ]
  },
  {
   "cell_type": "markdown",
   "id": "443d50f9-d1d9-472d-b2fe-199d33968f3e",
   "metadata": {},
   "source": [
    "# Sets Examples"
   ]
  },
  {
   "cell_type": "code",
   "execution_count": 20,
   "id": "0df1c638-a43c-4c8b-a133-21ba98402d07",
   "metadata": {},
   "outputs": [
    {
     "name": "stdout",
     "output_type": "stream",
     "text": [
      "{1, 2, 3, 4}\n"
     ]
    }
   ],
   "source": [
    "mySet = {1, 2, 3, 4}\n",
    "print(mySet)"
   ]
  },
  {
   "cell_type": "code",
   "execution_count": 21,
   "id": "d10fc6c4-8fa4-4ab2-aa09-774c259cf986",
   "metadata": {},
   "outputs": [
    {
     "name": "stdout",
     "output_type": "stream",
     "text": [
      "{1, 2, 3, 4, 5}\n"
     ]
    }
   ],
   "source": [
    "mySet.add(5)\n",
    "print(mySet)"
   ]
  },
  {
   "cell_type": "code",
   "execution_count": 22,
   "id": "5eee7463-5953-461c-83fd-1ac2ac2342c0",
   "metadata": {},
   "outputs": [
    {
     "name": "stdout",
     "output_type": "stream",
     "text": [
      "{1, 2, 4, 5}\n"
     ]
    }
   ],
   "source": [
    "mySet.remove(3)\n",
    "print(mySet)"
   ]
  },
  {
   "cell_type": "markdown",
   "id": "8a18ea93-8895-4e6f-a6b7-e963560f10c9",
   "metadata": {},
   "source": [
    "# Unique values in sets"
   ]
  },
  {
   "cell_type": "code",
   "execution_count": 23,
   "id": "8f9a1574-dee1-4d4b-9f66-e3ee7d624f1a",
   "metadata": {},
   "outputs": [
    {
     "name": "stdout",
     "output_type": "stream",
     "text": [
      "{1, 2, 3, 4, 5, 6}\n"
     ]
    }
   ],
   "source": [
    "set1 = {1, 2, 3}\n",
    "set2 = {4, 5, 6}\n",
    "\n",
    "union = set1.union(set2)\n",
    "\n",
    "print(union)"
   ]
  },
  {
   "cell_type": "code",
   "execution_count": 24,
   "id": "f7fd47e6-c382-42c9-8b3d-be4faa0f390c",
   "metadata": {},
   "outputs": [
    {
     "name": "stdout",
     "output_type": "stream",
     "text": [
      "{1, 2, 3, 4, 5, 6}\n"
     ]
    }
   ],
   "source": [
    "set1 = {1, 2, 3}\n",
    "set2 = {1, 2, 3, 4, 5, 6}\n",
    "union = set1.union(set2)\n",
    "\n",
    "print(union)"
   ]
  },
  {
   "cell_type": "code",
   "execution_count": 25,
   "id": "d6f20d04-1f73-47ff-925e-d89b8809b59c",
   "metadata": {},
   "outputs": [
    {
     "name": "stdout",
     "output_type": "stream",
     "text": [
      "{1, 2, 3}\n"
     ]
    }
   ],
   "source": [
    "# Intersection of two sets !!!!!\n",
    "\n",
    "set1 = {1, 2, 3}\n",
    "set2 = {1, 2, 3, 4, 5, 6}\n",
    "\n",
    "union = set1.intersection(set2)\n",
    "\n",
    "print(union)"
   ]
  },
  {
   "cell_type": "code",
   "execution_count": 26,
   "id": "c93466d8-bfb9-4917-84a3-453ef44c88a8",
   "metadata": {},
   "outputs": [
    {
     "name": "stdout",
     "output_type": "stream",
     "text": [
      "{1, 2, 3}\n"
     ]
    }
   ],
   "source": [
    "# Difference in two sets !!!!!!\n",
    "\n",
    "set1 = {1, 2, 3}\n",
    "set2 = {1, 2, 3, 4, 5, 6}\n",
    "\n",
    "union = set1.intersection(set2)\n",
    "\n",
    "print(union)"
   ]
  },
  {
   "cell_type": "code",
   "execution_count": 27,
   "id": "8b35773e-1209-4a1f-878b-4e27996de67c",
   "metadata": {},
   "outputs": [
    {
     "name": "stdout",
     "output_type": "stream",
     "text": [
      "1\n",
      "2\n",
      "3\n",
      "4\n",
      "5\n",
      "6\n"
     ]
    }
   ],
   "source": [
    "# Traverse !!!!!\n",
    "\n",
    "set1 = {1, 2, 3}\n",
    "set2 = {1, 2, 3, 4, 5, 6}\n",
    "\n",
    "for item in set2:\n",
    "    print(item)"
   ]
  },
  {
   "cell_type": "code",
   "execution_count": 28,
   "id": "2d9d10db-96c6-4f03-bccd-f86018c61cb5",
   "metadata": {},
   "outputs": [
    {
     "name": "stdout",
     "output_type": "stream",
     "text": [
      "Found it!\n"
     ]
    }
   ],
   "source": [
    "# Only look for a specific element \n",
    "\n",
    "if 4 in set2:\n",
    "    print(\"Found it!\")\n",
    "else:\n",
    "    print(\"Did not find it!\")\n",
    "    "
   ]
  },
  {
   "cell_type": "markdown",
   "id": "f8177974-c073-49b1-8fa9-fd111b7c8020",
   "metadata": {},
   "source": [
    "# Dictionary"
   ]
  },
  {
   "cell_type": "code",
   "execution_count": 29,
   "id": "8e360126-db2d-4188-a7b5-1f511bf2ccbb",
   "metadata": {},
   "outputs": [
    {
     "ename": "SyntaxError",
     "evalue": "invalid syntax (1721780226.py, line 1)",
     "output_type": "error",
     "traceback": [
      "\u001b[1;36m  Cell \u001b[1;32mIn[29], line 1\u001b[1;36m\u001b[0m\n\u001b[1;33m    jeep = {!!!!!!\u001b[0m\n\u001b[1;37m            ^\u001b[0m\n\u001b[1;31mSyntaxError\u001b[0m\u001b[1;31m:\u001b[0m invalid syntax\n"
     ]
    }
   ],
   "source": [
    "jeep = {!!!!!!\n",
    "    \"brand\": \"Jeep\",\n",
    "    \"model\": \"Rubicon\",\n",
    "    \"year\": 2014,\n",
    "    \"year\": 1976,\n",
    "}\n",
    "\n",
    "# This value would overwrite the previous KVP (Key Value Pair)\n",
    "\n",
    "print(jeep)\n",
    "    "
   ]
  },
  {
   "cell_type": "markdown",
   "id": "e8d5378f-5c05-4c83-931f-c87d7499342d",
   "metadata": {},
   "source": [
    "# Config settings example"
   ]
  },
  {
   "cell_type": "code",
   "execution_count": 52,
   "id": "1908ded8-20c5-4a2c-ad74-da603deacab5",
   "metadata": {},
   "outputs": [
    {
     "name": "stdout",
     "output_type": "stream",
     "text": [
      "Screen resolution: (1920, 1080)\n"
     ]
    }
   ],
   "source": [
    "config = {\n",
    "    'screen_resolution': (1920, 1080),\n",
    "    'color_scheme': 'dark',\n",
    "    'file_path': {\n",
    "        'data_file': '/path/to/data.txt',\n",
    "        'log_file': '/path/to/log.txt'\n",
    "    }\n",
    "}\n",
    "\n",
    "#Acessing config items\n",
    "\n",
    "print(\"Screen resolution:\", config['screen_resolution'])"
   ]
  },
  {
   "cell_type": "code",
   "execution_count": 53,
   "id": "a4bd6bc8-0bce-4427-833e-50c0f84618d2",
   "metadata": {},
   "outputs": [
    {
     "name": "stdout",
     "output_type": "stream",
     "text": [
      "{'screen_resolution': (1920, 1080), 'color_scheme': 'light', 'file_path': {'data_file': '/path/to/data.txt', 'log_file': '/path/to/log.txt'}, 'font_size': 16}\n"
     ]
    }
   ],
   "source": [
    "# Adding values to dictionary\n",
    "\n",
    "config['color_scheme'] = 'light'\n",
    "\n",
    "# Add a element\n",
    "\n",
    "config['font_size'] = 16\n",
    "\n",
    "print(config)"
   ]
  },
  {
   "cell_type": "code",
   "execution_count": 55,
   "id": "98b84f9a-681e-43f0-8f74-f626cadc613f",
   "metadata": {},
   "outputs": [
    {
     "name": "stdout",
     "output_type": "stream",
     "text": [
      "{'screen_resolution': (1920, 1080), 'color_scheme': 'light', 'file_path': {'log_file': '/path/to/log.txt'}, 'font_size': 16}\n"
     ]
    }
   ],
   "source": [
    "# Remove elements from dictionary\n",
    "\n",
    "del config['file_path']['data_file']\n",
    "print(config)"
   ]
  },
  {
   "cell_type": "markdown",
   "id": "258dee08-e21a-4a75-890f-51806fa4c1ac",
   "metadata": {},
   "source": [
    "# Search elements within a dictionary"
   ]
  },
  {
   "cell_type": "code",
   "execution_count": 56,
   "id": "41bdd7f0-97ec-4012-8248-b955a6b27c13",
   "metadata": {},
   "outputs": [
    {
     "name": "stdout",
     "output_type": "stream",
     "text": [
      "screen_resolution\n",
      "color_scheme\n",
      "file_path\n",
      "font_size\n"
     ]
    }
   ],
   "source": [
    "# Loop thorugh the keys in our dictionary\n",
    "\n",
    "for key in config:\n",
    "    print(key)"
   ]
  },
  {
   "cell_type": "code",
   "execution_count": 57,
   "id": "e472cd07-773c-43c1-bdfe-364eb22b3b1d",
   "metadata": {},
   "outputs": [
    {
     "name": "stdout",
     "output_type": "stream",
     "text": [
      "(1920, 1080)\n",
      "light\n",
      "{'log_file': '/path/to/log.txt'}\n",
      "16\n"
     ]
    }
   ],
   "source": [
    "for value in config.values():\n",
    "    print(value)"
   ]
  },
  {
   "cell_type": "code",
   "execution_count": 58,
   "id": "0e2685b3-2d23-4e45-ad7d-620bd2df6c78",
   "metadata": {},
   "outputs": [
    {
     "name": "stdout",
     "output_type": "stream",
     "text": [
      "screen_resolution: (1920, 1080)\n",
      "color_scheme: light\n",
      "file_path: {'log_file': '/path/to/log.txt'}\n",
      "font_size: 16\n"
     ]
    }
   ],
   "source": [
    "for key, value in config.items():\n",
    "    print(f\"{key}: {value}\")"
   ]
  },
  {
   "cell_type": "code",
   "execution_count": 60,
   "id": "1bf1dd94-ea6c-4032-9794-25434d7be5c2",
   "metadata": {},
   "outputs": [
    {
     "name": "stdout",
     "output_type": "stream",
     "text": [
      "Found it!\n"
     ]
    }
   ],
   "source": [
    "# Typical search through dictionary\n",
    "\n",
    "if 'light' in config.values():\n",
    "    print(\"Found it!\")\n",
    "else:\n",
    "    print(\"Not found\")"
   ]
  },
  {
   "cell_type": "markdown",
   "id": "92ee4769-da5b-425b-8825-68fb44fd836e",
   "metadata": {},
   "source": [
    "# Creating a dictionary from other lists"
   ]
  },
  {
   "cell_type": "code",
   "execution_count": 62,
   "id": "31579664-548c-4b9c-895b-baec26d0081c",
   "metadata": {},
   "outputs": [
    {
     "name": "stdout",
     "output_type": "stream",
     "text": [
      "{'name': 'John Doe', 'age': 30, 'city': 'New York'}\n"
     ]
    }
   ],
   "source": [
    "keys = ['name', 'age', 'city']\n",
    "value = ['John Doe', 30, 'New York']\n",
    "\n",
    "# To combine lists into a dictionary\n",
    "# dict is a Pythn function to create a dictionary\n",
    "person = dict(zip(keys, value))\n",
    "\n",
    "print(person)"
   ]
  },
  {
   "cell_type": "markdown",
   "id": "0fa791db-8fe6-494a-bbed-3985c6d26915",
   "metadata": {},
   "source": [
    "# Comprehension"
   ]
  },
  {
   "cell_type": "code",
   "execution_count": 63,
   "id": "7645e962-abcf-4f9f-86c7-bb268f82a32a",
   "metadata": {},
   "outputs": [
    {
     "name": "stdout",
     "output_type": "stream",
     "text": [
      "Jeep\n",
      "F350\n",
      "Ram\n"
     ]
    }
   ],
   "source": [
    "cars = ['Jeep', 'F350', 'Ram']\n",
    "\n",
    "for vehicle in cars:\n",
    "    print(vehicle)"
   ]
  },
  {
   "cell_type": "code",
   "execution_count": 64,
   "id": "594f5d6a-c1e5-4908-806b-e15218f6367b",
   "metadata": {},
   "outputs": [
    {
     "name": "stdout",
     "output_type": "stream",
     "text": [
      "Ram\n",
      "Ram\n",
      "Ram\n"
     ]
    },
    {
     "data": {
      "text/plain": [
       "[None, None, None]"
      ]
     },
     "execution_count": 64,
     "metadata": {},
     "output_type": "execute_result"
    }
   ],
   "source": [
    "# Accomplish the same search with comprehension\n",
    "[print(vehicle) for vehicles in cars]"
   ]
  },
  {
   "cell_type": "code",
   "execution_count": null,
   "id": "f78df80b-8038-4ea6-9631-29176b575486",
   "metadata": {},
   "outputs": [],
   "source": []
  }
 ],
 "metadata": {
  "kernelspec": {
   "display_name": "base",
   "language": "python",
   "name": "python3"
  },
  "language_info": {
   "codemirror_mode": {
    "name": "ipython",
    "version": 3
   },
   "file_extension": ".py",
   "mimetype": "text/x-python",
   "name": "python",
   "nbconvert_exporter": "python",
   "pygments_lexer": "ipython3",
   "version": "3.12.3"
  }
 },
 "nbformat": 4,
 "nbformat_minor": 5
}
