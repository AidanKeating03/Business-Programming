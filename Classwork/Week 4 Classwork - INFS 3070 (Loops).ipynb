{
 "cells": [
  {
   "cell_type": "markdown",
   "id": "c8ccbb4b-a7e9-4019-919b-daba52224b7b",
   "metadata": {},
   "source": [
    "# While Loop Examples"
   ]
  },
  {
   "cell_type": "code",
   "execution_count": 1,
   "id": "97d85c24-6dd8-4aea-9d09-4740d9fc2e2f",
   "metadata": {},
   "outputs": [
    {
     "name": "stdout",
     "output_type": "stream",
     "text": [
      "1\n",
      "2\n",
      "3\n",
      "4\n",
      "5\n",
      "6\n",
      "7\n",
      "8\n",
      "9\n",
      "10\n"
     ]
    }
   ],
   "source": [
    "x = 1\n",
    "\n",
    "while x < 11:\n",
    "    print(x)\n",
    "    x += 1"
   ]
  },
  {
   "cell_type": "markdown",
   "id": "006ff24e-3b13-47b2-93cb-b7abf503efd9",
   "metadata": {},
   "source": [
    "## Break Statement"
   ]
  },
  {
   "cell_type": "code",
   "execution_count": 2,
   "id": "bf74d588-76db-4a94-9ce8-5dfacaea5201",
   "metadata": {},
   "outputs": [
    {
     "name": "stdout",
     "output_type": "stream",
     "text": [
      "1\n",
      "2\n",
      "3\n",
      "4\n",
      "5\n"
     ]
    }
   ],
   "source": [
    "x = 1\n",
    "\n",
    "while x < 11:\n",
    "    print(x)\n",
    "    if x == 5:\n",
    "        break\n",
    "    x += 1"
   ]
  },
  {
   "cell_type": "markdown",
   "id": "65248a52-e8a1-4193-8fa9-63005c3dc51a",
   "metadata": {},
   "source": [
    "## Continue"
   ]
  },
  {
   "cell_type": "code",
   "execution_count": 3,
   "id": "608f887e-a24d-47ba-ae3e-f9f3f081c890",
   "metadata": {},
   "outputs": [
    {
     "name": "stdout",
     "output_type": "stream",
     "text": [
      "2\n",
      "3\n",
      "4\n",
      "6\n",
      "7\n",
      "8\n",
      "9\n",
      "10\n",
      "11\n"
     ]
    }
   ],
   "source": [
    "x = 1\n",
    "\n",
    "while x < 11:\n",
    "    x += 1\n",
    "    if x == 5:\n",
    "        continue\n",
    "    print(x)"
   ]
  },
  {
   "cell_type": "markdown",
   "id": "650f7ed6-add9-4932-818c-faae1d75949e",
   "metadata": {},
   "source": [
    "## Payroll example"
   ]
  },
  {
   "cell_type": "code",
   "execution_count": null,
   "id": "35b7b99b-696b-4922-ad8f-d22da6d67a13",
   "metadata": {},
   "outputs": [
    {
     "name": "stdout",
     "output_type": "stream",
     "text": [
      "You did not enter your hours:\n"
     ]
    }
   ],
   "source": [
    "hoursWorked = input(\"Enter the number of hours worked: \")\n",
    "\n",
    "while hoursWorked == \"\":\n",
    "    print(\"You did not enter your hours:\")\n",
    "    hoursWorked = input(\"Please enter your hours:\")\n",
    "\n",
    "else:\n",
    "    print(f\"You worked {hoursWorked} hours this week.\")"
   ]
  },
  {
   "cell_type": "markdown",
   "id": "66c88dca-4fbc-4ea4-a064-519517abc1b1",
   "metadata": {},
   "source": [
    "## For Loop Examples"
   ]
  },
  {
   "cell_type": "code",
   "execution_count": 10,
   "id": "b4026e36-00f8-46df-9939-d92752ea5cbd",
   "metadata": {},
   "outputs": [
    {
     "name": "stdout",
     "output_type": "stream",
     "text": [
      "1\n",
      "4\n",
      "9\n",
      "16\n",
      "25\n"
     ]
    }
   ],
   "source": [
    "# Remember that 6 is a range and non-inclusive\n",
    "\n",
    "for index in range(1, 6): \n",
    "    print(index* index)\n",
    "    "
   ]
  },
  {
   "cell_type": "code",
   "execution_count": 11,
   "id": "d568a9fd-3b7c-4c66-b145-e364287a4dfa",
   "metadata": {},
   "outputs": [
    {
     "name": "stdout",
     "output_type": "stream",
     "text": [
      "1\n",
      "4\n",
      "9\n",
      "16\n",
      "25\n"
     ]
    }
   ],
   "source": [
    "for i in range (1, 6):\n",
    "    print(i * i)"
   ]
  },
  {
   "cell_type": "code",
   "execution_count": 13,
   "id": "6687984f-d7b2-4b5e-a0f2-ecf047946dac",
   "metadata": {},
   "outputs": [
    {
     "name": "stdout",
     "output_type": "stream",
     "text": [
      "1\n",
      "2\n",
      "3\n",
      "4\n",
      "5\n",
      "6\n",
      "7\n",
      "8\n",
      "9\n",
      "10\n",
      "Happy Birthday!\n"
     ]
    }
   ],
   "source": [
    "for i in range(1, 11):\n",
    "    print(i)\n",
    "\n",
    "print(\"Happy Birthday!\")"
   ]
  },
  {
   "cell_type": "code",
   "execution_count": 14,
   "id": "79dd9368-9ed7-4693-af1a-9db566a9671b",
   "metadata": {},
   "outputs": [
    {
     "name": "stdout",
     "output_type": "stream",
     "text": [
      "10\n",
      "9\n",
      "8\n",
      "7\n",
      "6\n",
      "5\n",
      "4\n",
      "3\n",
      "2\n",
      "1\n",
      "Kaboom!\n"
     ]
    }
   ],
   "source": [
    "# Reverse the Loop\n",
    "\n",
    "for i in reversed(range(1, 11)):\n",
    "    print(i)\n",
    "\n",
    "print(\"Kaboom!\")"
   ]
  },
  {
   "cell_type": "code",
   "execution_count": 15,
   "id": "e3d4d76e-5dbb-47d6-8923-38699400baec",
   "metadata": {},
   "outputs": [
    {
     "name": "stdout",
     "output_type": "stream",
     "text": [
      "1\n",
      "3\n",
      "5\n",
      "7\n",
      "9\n",
      "yes.\n"
     ]
    }
   ],
   "source": [
    "# Count by by specific intervals \n",
    "\n",
    "for i in range (1, 11, 2):\n",
    "    print(i)\n",
    "\n",
    "print(\"yes.\")"
   ]
  },
  {
   "cell_type": "markdown",
   "id": "f281be27-01e1-444e-a38a-d65d34b1d885",
   "metadata": {},
   "source": [
    "## Looping Through Interations\n",
    "Within a FOR loop, you can control the flow with 'break', 'continue', and 'else' but not is the loop exited through a break"
   ]
  },
  {
   "cell_type": "code",
   "execution_count": 16,
   "id": "d0688a22-ef3e-492a-946f-582e549accf4",
   "metadata": {},
   "outputs": [
    {
     "name": "stdout",
     "output_type": "stream",
     "text": [
      "1\n",
      "2\n",
      "3\n",
      "4\n",
      "Number 5 found, stopping the loop\n"
     ]
    }
   ],
   "source": [
    "numbers = [1, 2, 3, 4, 5, 6, 7, 8, 9, 10]\n",
    "\n",
    "for number in numbers:\n",
    "    if number == 5:\n",
    "        print(\"Number 5 found, stopping the loop\")\n",
    "        break\n",
    "    print(number)"
   ]
  },
  {
   "cell_type": "code",
   "execution_count": 17,
   "id": "222d0b22-2b46-41c7-b06f-b7f478dde681",
   "metadata": {},
   "outputs": [
    {
     "name": "stdout",
     "output_type": "stream",
     "text": [
      "1\n",
      "2\n",
      "3\n",
      "4\n",
      "5\n",
      "6\n",
      "7\n",
      "8\n",
      "9\n",
      "10\n",
      "11\n",
      "12\n",
      "14\n",
      "15\n",
      "16\n",
      "17\n",
      "18\n",
      "19\n",
      "20\n"
     ]
    }
   ],
   "source": [
    "# Example of the continue reserved word\n",
    "\n",
    "for i in range(1, 21):\n",
    "    if i == 13:\n",
    "        continue\n",
    "    else:\n",
    "        print(i)"
   ]
  },
  {
   "cell_type": "markdown",
   "id": "1ec3c9dc-283c-4ee4-b3bf-8eee7242bade",
   "metadata": {},
   "source": [
    "## Nested Loop"
   ]
  },
  {
   "cell_type": "code",
   "execution_count": 19,
   "id": "03cb4229-ac75-4416-a73e-d46d65544d48",
   "metadata": {},
   "outputs": [
    {
     "name": "stdout",
     "output_type": "stream",
     "text": [
      "1\n",
      "2\n",
      "3\n",
      "4\n",
      "5\n",
      "6\n",
      "7\n",
      "8\n",
      "9\n"
     ]
    }
   ],
   "source": [
    "matrix = [[1, 2, 3], [4, 5, 6], [7, 8, 9]]\n",
    "\n",
    "for row in matrix:\n",
    "    for element in row:\n",
    "        print(element)"
   ]
  },
  {
   "cell_type": "markdown",
   "id": "723e774b-b167-4cf6-b276-5195123932a9",
   "metadata": {},
   "source": [
    "## List Examples"
   ]
  },
  {
   "cell_type": "code",
   "execution_count": 20,
   "id": "15680287-437b-4fe0-82d2-ae011920e0dc",
   "metadata": {},
   "outputs": [
    {
     "name": "stdout",
     "output_type": "stream",
     "text": [
      "Jeep\n"
     ]
    }
   ],
   "source": [
    "vehicles = ['F350', 'Jeep', 'Ram', 'Motorcycle']\n",
    "\n",
    "print(vehicles[1])"
   ]
  },
  {
   "cell_type": "code",
   "execution_count": 21,
   "id": "7c6af6e7-9dbb-414d-b3fc-ff5275c84f94",
   "metadata": {},
   "outputs": [
    {
     "name": "stdout",
     "output_type": "stream",
     "text": [
      "['F350', 'Jeep', 'Ram', 'Motorcycle']\n"
     ]
    }
   ],
   "source": [
    "print(vehicles)"
   ]
  },
  {
   "cell_type": "code",
   "execution_count": 22,
   "id": "1ffa95a7-5b4e-46ca-ade7-4e83e40b61c9",
   "metadata": {},
   "outputs": [
    {
     "name": "stdout",
     "output_type": "stream",
     "text": [
      "F350\n",
      "Jeep\n",
      "Ram\n",
      "Motorcycle\n"
     ]
    }
   ],
   "source": [
    "for transportation in vehicles:\n",
    "    print(transportation)"
   ]
  },
  {
   "cell_type": "markdown",
   "id": "ebcd25cf-c81b-425f-a5b7-1d0878376904",
   "metadata": {},
   "source": [
    "# Book Programming Challenge\n",
    "At one college, the tuition for a full-time student is $8,000 per semester. Tuition will be increasing by 3% each year for the next 5 years.\n",
    "Write a program that displays the projected semester tuition amount for the next 5 years."
   ]
  },
  {
   "cell_type": "code",
   "execution_count": 23,
   "id": "0330c3c0-dab7-497a-8a0d-537f91aaad1b",
   "metadata": {},
   "outputs": [
    {
     "name": "stdout",
     "output_type": "stream",
     "text": [
      "In 1 year, the tuition will be $8240.00.\n",
      "In 2 years, the tuition will be $8487.20.\n",
      "In 3 years, the tuition will be $8741.82.\n",
      "In 4 years, the tuition will be $9004.07.\n",
      "In 5 years, the tuition will be $9274.19.\n"
     ]
    }
   ],
   "source": [
    "tuition = 8000.0\n",
    "\n",
    "for i in range (1, 6):\n",
    "    tuition *= 1.03\n",
    "    if i == 1:\n",
    "        print(f\"In 1 year, the tuition will be ${tuition:.2f}.\")\n",
    "    else:\n",
    "        print(f\"In {i} years, the tuition will be ${tuition:.2f}.\")\n",
    "\n",
    "# The \".2f\" is just to make it only have 2 decimals on the end"
   ]
  },
  {
   "cell_type": "code",
   "execution_count": null,
   "id": "91c4ac22-87ea-485d-bf01-c1077963379c",
   "metadata": {},
   "outputs": [],
   "source": []
  }
 ],
 "metadata": {
  "kernelspec": {
   "display_name": "base",
   "language": "python",
   "name": "python3"
  },
  "language_info": {
   "codemirror_mode": {
    "name": "ipython",
    "version": 3
   },
   "file_extension": ".py",
   "mimetype": "text/x-python",
   "name": "python",
   "nbconvert_exporter": "python",
   "pygments_lexer": "ipython3",
   "version": "3.12.3"
  }
 },
 "nbformat": 4,
 "nbformat_minor": 5
}
