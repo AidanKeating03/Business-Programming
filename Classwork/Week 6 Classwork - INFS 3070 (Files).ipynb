{
 "cells": [
  {
   "cell_type": "code",
   "execution_count": 1,
   "id": "51af574c-5f0b-4e59-ac2e-f869c1057d9a",
   "metadata": {},
   "outputs": [
    {
     "name": "stdout",
     "output_type": "stream",
     "text": [
      "Hello World\n"
     ]
    }
   ],
   "source": [
    "myString = \"Hello World\"\n",
    "print(myString)"
   ]
  },
  {
   "cell_type": "markdown",
   "id": "f3272172",
   "metadata": {},
   "source": [
    "### Retrieve a specific index location"
   ]
  },
  {
   "cell_type": "code",
   "execution_count": 2,
   "id": "38ceb841",
   "metadata": {},
   "outputs": [
    {
     "name": "stdout",
     "output_type": "stream",
     "text": [
      "l\n"
     ]
    }
   ],
   "source": [
    "myString = \"Hello World\"\n",
    "print(myString[3])"
   ]
  },
  {
   "cell_type": "markdown",
   "id": "df7b8b00",
   "metadata": {},
   "source": [
    "### Retrieve a slice of a string"
   ]
  },
  {
   "cell_type": "code",
   "execution_count": 3,
   "id": "c36093ef",
   "metadata": {},
   "outputs": [
    {
     "name": "stdout",
     "output_type": "stream",
     "text": [
      "Hello\n"
     ]
    }
   ],
   "source": [
    "print(myString[0:5])"
   ]
  },
  {
   "cell_type": "markdown",
   "id": "b08110bb",
   "metadata": {},
   "source": [
    "### Example of string immutability"
   ]
  },
  {
   "cell_type": "code",
   "execution_count": 4,
   "id": "b473f66f",
   "metadata": {},
   "outputs": [
    {
     "name": "stdout",
     "output_type": "stream",
     "text": [
      "Memory location of 'string1' before changes: 1930356147568\n",
      "Memory location of 'string2' before changes: 1930356149824\n",
      "Memory location of 'string1' before changes: 1930356149824\n",
      "Memory location of 'string2' before changes: 1930356149824\n"
     ]
    }
   ],
   "source": [
    "# Initial strings\n",
    "\n",
    "string1 = \"Bob\"\n",
    "string2 = \"Mary\"\n",
    "\n",
    "# Memory location of the strings before changes\n",
    "memory_before_string1 = id(string1)\n",
    "memory_before_string2 = id(string2)\n",
    "\n",
    "# Chnage string1 to \"Mary\"\n",
    "string1 = \"Mary\"\n",
    "\n",
    "# Memeory location of the strings after changes\n",
    "memory_after_string1 = id(string1)\n",
    "memory_after_string2 = id(string2)\n",
    "\n",
    "# Output the memory location\n",
    "print(f\"Memory location of 'string1' before changes: {memory_before_string1}\")\n",
    "print(f\"Memory location of 'string2' before changes: {memory_before_string2}\")\n",
    "print(f\"Memory location of 'string1' before changes: {memory_after_string1}\")\n",
    "print(f\"Memory location of 'string2' before changes: {memory_after_string2}\")"
   ]
  },
  {
   "cell_type": "markdown",
   "id": "2d8339b6",
   "metadata": {},
   "source": [
    "### Formatting Strings"
   ]
  },
  {
   "cell_type": "code",
   "execution_count": 5,
   "id": "f31649b1",
   "metadata": {},
   "outputs": [
    {
     "name": "stdout",
     "output_type": "stream",
     "text": [
      "Hello, Alice. You are 30 years old.\n",
      "Hello, Alice. You are 30 years old.\n",
      "Hello, Alice. You are 30 years old.\n"
     ]
    }
   ],
   "source": [
    "name = \"Alice\"\n",
    "age = 30\n",
    "\n",
    "# Format a string by concatenating elements together\n",
    "greeting = \"Hello, \" + name + \". You are \" + str(age) + \" years old.\"\n",
    "\n",
    "# Format a string using the .format method call\n",
    "greeting2 = \"Hello, {}. You are {} years old.\".format(name, age)\n",
    "\n",
    "# Format a string using a 'f' string\n",
    "greeting3 = f\"Hello, {name}. You are {age} years old.\"\n",
    "\n",
    "\n",
    "\n",
    "print(greeting)\n",
    "print(greeting2)\n",
    "print(greeting3)"
   ]
  },
  {
   "cell_type": "markdown",
   "id": "a299d4a5",
   "metadata": {},
   "source": [
    "### Escaping Characters"
   ]
  },
  {
   "cell_type": "code",
   "execution_count": 6,
   "id": "7cbfa6da",
   "metadata": {},
   "outputs": [
    {
     "name": "stdout",
     "output_type": "stream",
     "text": [
      "I am a \"goof\", no doubt about it.\n"
     ]
    }
   ],
   "source": [
    "# Example of escaping characters so the quotes will work\n",
    "escapEx = \"I am a \\\"goof\\\", no doubt about it.\"\n",
    "\n",
    "print(escapEx)"
   ]
  },
  {
   "cell_type": "code",
   "execution_count": 7,
   "id": "5e68c68b",
   "metadata": {},
   "outputs": [
    {
     "name": "stdout",
     "output_type": "stream",
     "text": [
      "This is line 1. \n",
      "This is line2.\n"
     ]
    }
   ],
   "source": [
    "# Example of newline escape character\n",
    "escapEx = \"This is line 1. \\nThis is line2.\"\n",
    "\n",
    "print(escapEx)"
   ]
  },
  {
   "cell_type": "code",
   "execution_count": 8,
   "id": "baf2414d",
   "metadata": {},
   "outputs": [
    {
     "name": "stdout",
     "output_type": "stream",
     "text": [
      "This is line 2. \n"
     ]
    }
   ],
   "source": [
    "# Example of a carriage return\n",
    "\n",
    "escapEx = \"This is like 1. \\rThis is line 2.\"\n",
    "\n",
    "print(escapEx)"
   ]
  },
  {
   "cell_type": "markdown",
   "id": "87e6b323",
   "metadata": {},
   "source": [
    "### Search in string"
   ]
  },
  {
   "cell_type": "code",
   "execution_count": 9,
   "id": "0e36e114",
   "metadata": {},
   "outputs": [
    {
     "name": "stdout",
     "output_type": "stream",
     "text": [
      "7\n"
     ]
    }
   ],
   "source": [
    "my_String = \"Hello, World!\"\n",
    "\n",
    "# Searching\n",
    "index = my_String.find(\"World\")\n",
    "\n",
    "print(index)"
   ]
  },
  {
   "cell_type": "code",
   "execution_count": 10,
   "id": "276412e8",
   "metadata": {},
   "outputs": [
    {
     "name": "stdout",
     "output_type": "stream",
     "text": [
      "True\n"
     ]
    }
   ],
   "source": [
    "# Search using the 'in' method\n",
    "result = \"World\" in my_String\n",
    "print(result)"
   ]
  },
  {
   "cell_type": "markdown",
   "id": "67194d3f",
   "metadata": {},
   "source": [
    "### Working with files"
   ]
  },
  {
   "cell_type": "code",
   "execution_count": 11,
   "id": "cc32b52c",
   "metadata": {},
   "outputs": [],
   "source": [
    "# Writing to a file\n",
    "\n",
    "f = open(\"Files/readFileExample.txt\", \"w\")\n",
    "f.write(\"Whoops!\")\n",
    "\n",
    "# Very important to close the connection before the write will occur\n",
    "f.close()"
   ]
  },
  {
   "cell_type": "code",
   "execution_count": 12,
   "id": "15fc4722",
   "metadata": {},
   "outputs": [],
   "source": [
    "f = open(\"Files/readFileExample.txt\", \"w\")\n",
    "f.write(\"Here we go again!\")\n",
    "\n",
    "f.close()"
   ]
  },
  {
   "cell_type": "markdown",
   "id": "18faf5bf",
   "metadata": {},
   "source": [
    "### Handling errors"
   ]
  },
  {
   "cell_type": "code",
   "execution_count": 13,
   "id": "da63b51b",
   "metadata": {},
   "outputs": [
    {
     "name": "stdout",
     "output_type": "stream",
     "text": [
      "That file was not found.\n"
     ]
    }
   ],
   "source": [
    "# Open a file using the with method\n",
    "\n",
    "# purposely misspelled \n",
    "try:\n",
    "    with open(\"Files/readFileExampl.txt\", 'r') as f:\n",
    "        print(f.read())\n",
    "except FileNotFoundError:\n",
    "    print(\"That file was not found.\")\n",
    "except KeyError:\n",
    "    print(\"Something is worng with your key, get a locksmith\")"
   ]
  },
  {
   "cell_type": "markdown",
   "id": "f9dec7ca",
   "metadata": {},
   "source": [
    "### Config file example"
   ]
  },
  {
   "cell_type": "code",
   "execution_count": 14,
   "id": "a03d9663",
   "metadata": {},
   "outputs": [
    {
     "name": "stdout",
     "output_type": "stream",
     "text": [
      "The setting is:  dark\n",
      "\n"
     ]
    }
   ],
   "source": [
    "# Search for a parameter\n",
    "searchItem = 'theme'\n",
    "\n",
    "# Open the file in read mode:\n",
    "with open(\"datafiles/config.txt\", 'r') as f:\n",
    "    lines = f.readlines() \n",
    "# Reads all of the lines in the file\n",
    "\n",
    "# Search for the user or program input item.\n",
    "for line in lines:\n",
    "    if searchItem in line:\n",
    "        # Ignores the values left of the '=' and assign to '_'\n",
    "        _, searchItem = line.split(\"=\", 1)\n",
    "        serachItem = searchItem.strip()\n",
    "        break\n",
    "\n",
    "# Display our results or lack thereof\n",
    "if searchItem:\n",
    "    print(f\"The setting is: {searchItem}\")\n",
    "else:\n",
    "    print(\"The setting was not found\")"
   ]
  },
  {
   "cell_type": "code",
   "execution_count": 16,
   "id": "9bb37554",
   "metadata": {},
   "outputs": [
    {
     "name": "stdout",
     "output_type": "stream",
     "text": [
      "The setting is: 12\n"
     ]
    }
   ],
   "source": [
    "import configparser\n",
    "\n",
    "from configparser import ConfigParser\n",
    "\n",
    "section = 'Settings'\n",
    "configItem = 'fontSize'\n",
    "\n",
    "# Initialize the parser\n",
    "config = ConfigParser()\n",
    "\n",
    "# Read in the config file\n",
    "config.read(\"datafiles/config.txt\")\n",
    "\n",
    "# Find the setting\n",
    "theme = config.get(section, configItem)\n",
    "\n",
    "print(f\"The setting is: {theme}\")"
   ]
  }
 ],
 "metadata": {
  "kernelspec": {
   "display_name": "base",
   "language": "python",
   "name": "python3"
  },
  "language_info": {
   "codemirror_mode": {
    "name": "ipython",
    "version": 3
   },
   "file_extension": ".py",
   "mimetype": "text/x-python",
   "name": "python",
   "nbconvert_exporter": "python",
   "pygments_lexer": "ipython3",
   "version": "3.12.3"
  }
 },
 "nbformat": 4,
 "nbformat_minor": 5
}
