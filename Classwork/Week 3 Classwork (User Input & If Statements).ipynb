{
 "cells": [
  {
   "cell_type": "markdown",
   "id": "84553317-611e-4666-b771-f9e7527e0662",
   "metadata": {},
   "source": [
    "# Example of User Input"
   ]
  },
  {
   "cell_type": "code",
   "execution_count": 1,
   "id": "55e23f2e-6094-4515-87c4-f2e6026592f2",
   "metadata": {},
   "outputs": [
    {
     "ename": "ValueError",
     "evalue": "invalid literal for int() with base 10: ''",
     "output_type": "error",
     "traceback": [
      "\u001b[1;31m---------------------------------------------------------------------------\u001b[0m",
      "\u001b[1;31mValueError\u001b[0m                                Traceback (most recent call last)",
      "Cell \u001b[1;32mIn[1], line 5\u001b[0m\n\u001b[0;32m      1\u001b[0m userName \u001b[38;5;241m=\u001b[39m \u001b[38;5;28minput\u001b[39m(\u001b[38;5;124m\"\u001b[39m\u001b[38;5;124mWhat is your name?\u001b[39m\u001b[38;5;124m\"\u001b[39m)\n\u001b[0;32m      3\u001b[0m \u001b[38;5;66;03m# Cast input to an integer for age variable\u001b[39;00m\n\u001b[1;32m----> 5\u001b[0m userAge \u001b[38;5;241m=\u001b[39m \u001b[38;5;28mint\u001b[39m(\u001b[38;5;28minput\u001b[39m(\u001b[38;5;124m\"\u001b[39m\u001b[38;5;124mWhat year were you born?\u001b[39m\u001b[38;5;124m\"\u001b[39m))\n\u001b[0;32m      7\u001b[0m age \u001b[38;5;241m=\u001b[39m \u001b[38;5;241m2024\u001b[39m \u001b[38;5;241m-\u001b[39m userAge\n\u001b[0;32m      9\u001b[0m \u001b[38;5;28mprint\u001b[39m(\u001b[38;5;124m\"\u001b[39m\u001b[38;5;124mHello\u001b[39m\u001b[38;5;124m\"\u001b[39m \u001b[38;5;241m+\u001b[39m userName)\n",
      "\u001b[1;31mValueError\u001b[0m: invalid literal for int() with base 10: ''"
     ]
    }
   ],
   "source": [
    "userName = input(\"What is your name?\")\n",
    "\n",
    "# Cast input to an integer for age variable\n",
    "\n",
    "userAge = int(input(\"What year were you born?\"))\n",
    "\n",
    "age = 2024 - userAge\n",
    "\n",
    "print(\"Hello\" + userName)\n",
    "\n",
    "# Print the user input casting the age variable back to a string\n",
    "\n",
    "print(\"You are \" + str(age) + \" years old\")"
   ]
  },
  {
   "cell_type": "markdown",
   "id": "34fcd978-2cf5-4a44-83d5-bb78782fd543",
   "metadata": {},
   "source": [
    "# If Statement Examples"
   ]
  },
  {
   "cell_type": "code",
   "execution_count": 6,
   "id": "31cec22b-caab-44b1-a2a1-320a4ed4df31",
   "metadata": {},
   "outputs": [
    {
     "ename": "KeyboardInterrupt",
     "evalue": "Interrupted by user",
     "output_type": "error",
     "traceback": [
      "\u001b[1;31m---------------------------------------------------------------------------\u001b[0m",
      "\u001b[1;31mKeyboardInterrupt\u001b[0m                         Traceback (most recent call last)",
      "Cell \u001b[1;32mIn[6], line 1\u001b[0m\n\u001b[1;32m----> 1\u001b[0m userName \u001b[38;5;241m=\u001b[39m \u001b[38;5;28minput\u001b[39m(\u001b[38;5;124m\"\u001b[39m\u001b[38;5;124mWhat is your age?\u001b[39m\u001b[38;5;124m\"\u001b[39m)\n\u001b[0;32m      3\u001b[0m \u001b[38;5;66;03m# Cast input to an integer for age variable\u001b[39;00m\n\u001b[0;32m      5\u001b[0m userAge \u001b[38;5;241m=\u001b[39m \u001b[38;5;28mint\u001b[39m(\u001b[38;5;28minput\u001b[39m(\u001b[38;5;124m\"\u001b[39m\u001b[38;5;124mWhat year were you born?\u001b[39m\u001b[38;5;124m\"\u001b[39m))\n",
      "File \u001b[1;32m~\\anaconda3\\Lib\\site-packages\\ipykernel\\kernelbase.py:1282\u001b[0m, in \u001b[0;36mKernel.raw_input\u001b[1;34m(self, prompt)\u001b[0m\n\u001b[0;32m   1280\u001b[0m     msg \u001b[38;5;241m=\u001b[39m \u001b[38;5;124m\"\u001b[39m\u001b[38;5;124mraw_input was called, but this frontend does not support input requests.\u001b[39m\u001b[38;5;124m\"\u001b[39m\n\u001b[0;32m   1281\u001b[0m     \u001b[38;5;28;01mraise\u001b[39;00m StdinNotImplementedError(msg)\n\u001b[1;32m-> 1282\u001b[0m \u001b[38;5;28;01mreturn\u001b[39;00m \u001b[38;5;28mself\u001b[39m\u001b[38;5;241m.\u001b[39m_input_request(\n\u001b[0;32m   1283\u001b[0m     \u001b[38;5;28mstr\u001b[39m(prompt),\n\u001b[0;32m   1284\u001b[0m     \u001b[38;5;28mself\u001b[39m\u001b[38;5;241m.\u001b[39m_parent_ident[\u001b[38;5;124m\"\u001b[39m\u001b[38;5;124mshell\u001b[39m\u001b[38;5;124m\"\u001b[39m],\n\u001b[0;32m   1285\u001b[0m     \u001b[38;5;28mself\u001b[39m\u001b[38;5;241m.\u001b[39mget_parent(\u001b[38;5;124m\"\u001b[39m\u001b[38;5;124mshell\u001b[39m\u001b[38;5;124m\"\u001b[39m),\n\u001b[0;32m   1286\u001b[0m     password\u001b[38;5;241m=\u001b[39m\u001b[38;5;28;01mFalse\u001b[39;00m,\n\u001b[0;32m   1287\u001b[0m )\n",
      "File \u001b[1;32m~\\anaconda3\\Lib\\site-packages\\ipykernel\\kernelbase.py:1325\u001b[0m, in \u001b[0;36mKernel._input_request\u001b[1;34m(self, prompt, ident, parent, password)\u001b[0m\n\u001b[0;32m   1322\u001b[0m \u001b[38;5;28;01mexcept\u001b[39;00m \u001b[38;5;167;01mKeyboardInterrupt\u001b[39;00m:\n\u001b[0;32m   1323\u001b[0m     \u001b[38;5;66;03m# re-raise KeyboardInterrupt, to truncate traceback\u001b[39;00m\n\u001b[0;32m   1324\u001b[0m     msg \u001b[38;5;241m=\u001b[39m \u001b[38;5;124m\"\u001b[39m\u001b[38;5;124mInterrupted by user\u001b[39m\u001b[38;5;124m\"\u001b[39m\n\u001b[1;32m-> 1325\u001b[0m     \u001b[38;5;28;01mraise\u001b[39;00m \u001b[38;5;167;01mKeyboardInterrupt\u001b[39;00m(msg) \u001b[38;5;28;01mfrom\u001b[39;00m \u001b[38;5;28;01mNone\u001b[39;00m\n\u001b[0;32m   1326\u001b[0m \u001b[38;5;28;01mexcept\u001b[39;00m \u001b[38;5;167;01mException\u001b[39;00m:\n\u001b[0;32m   1327\u001b[0m     \u001b[38;5;28mself\u001b[39m\u001b[38;5;241m.\u001b[39mlog\u001b[38;5;241m.\u001b[39mwarning(\u001b[38;5;124m\"\u001b[39m\u001b[38;5;124mInvalid Message:\u001b[39m\u001b[38;5;124m\"\u001b[39m, exc_info\u001b[38;5;241m=\u001b[39m\u001b[38;5;28;01mTrue\u001b[39;00m)\n",
      "\u001b[1;31mKeyboardInterrupt\u001b[0m: Interrupted by user"
     ]
    }
   ],
   "source": [
    "userName = input(\"What is your name?\")\n",
    "\n",
    "# Cast input to an integer for age variable\n",
    "\n",
    "userAge = int(input(\"What year were you born?\"))\n",
    "\n",
    "age = 2024 - userAge\n",
    "\n",
    "print(\"Hello\" + userName)\n",
    "\n",
    "# Print the user input casting the age variable back to a string\n",
    "\n",
    "print(\"You are \" + str(age) + \" years old\")\n",
    "\n",
    "# Example of IF Statement\n",
    "\n",
    "if age >= 21:\n",
    "    print(\"Welcome to the bar, enjoy your cold snack\")\n",
    "    \n",
    "print(\"Hello Bob\")\n",
    "print(\"No fun for you\")"
   ]
  },
  {
   "cell_type": "markdown",
   "id": "0e07384b-f507-4927-9a65-98fb7ccbe0d7",
   "metadata": {},
   "source": [
    "# Two-Wat IF Statements"
   ]
  },
  {
   "cell_type": "code",
   "execution_count": 10,
   "id": "7ffbdbf7-a391-4445-918b-8ae0e6832dc3",
   "metadata": {},
   "outputs": [
    {
     "name": "stdout",
     "output_type": "stream",
     "text": [
      "What is your name? Aidan \n",
      "What year were you born? 2003\n"
     ]
    },
    {
     "name": "stdout",
     "output_type": "stream",
     "text": [
      "Hello Aidan \n",
      "You are 21 years old\n",
      "Welcome to the bar, enjoy your cold snack\n"
     ]
    }
   ],
   "source": [
    "userName = input(\"What is your name?\")\n",
    "\n",
    "# Cast input to an integer for age variable\n",
    "\n",
    "userAge = int(input(\"What year were you born?\"))\n",
    "\n",
    "age = 2024 - userAge\n",
    "\n",
    "print(\"Hello \" + userName)\n",
    "\n",
    "# Print the user input casting the age variable back to a string\n",
    "\n",
    "print(\"You are \" + str(age) + \" years old\")\n",
    "\n",
    "# Example of Two-Way IF Statement\n",
    "\n",
    "if age >= 21:\n",
    "    print(\"Welcome to the bar, enjoy your cold snack\")\n",
    "else:\n",
    "    print(\"Sorry, no cold snack for you\")\n"
   ]
  },
  {
   "cell_type": "markdown",
   "id": "268d087d-b002-489b-aedf-339095e7fc36",
   "metadata": {},
   "source": [
    "# Ternary Expressions Example"
   ]
  },
  {
   "cell_type": "code",
   "execution_count": 13,
   "id": "92ab68ff-d80d-4876-982e-a4a03e4ca0a9",
   "metadata": {},
   "outputs": [
    {
     "name": "stdout",
     "output_type": "stream",
     "text": [
      "What is your name? Aidan\n",
      "What year were you born? 2003\n"
     ]
    },
    {
     "name": "stdout",
     "output_type": "stream",
     "text": [
      "Hello Aidan\n",
      "You are 21 years old\n",
      "You can enter the car\n"
     ]
    }
   ],
   "source": [
    "userName = input(\"What is your name?\")\n",
    "\n",
    "# Cast input to an integer for age variable\n",
    "\n",
    "userAge = int(input(\"What year were you born?\"))\n",
    "\n",
    "age = 2024 - userAge\n",
    "\n",
    "print(\"Hello \" + userName)\n",
    "\n",
    "# Print the user input casting the age variable back to a string\n",
    "\n",
    "print(\"You are \" + str(age) + \" years old\")\n",
    "\n",
    "# Ternary expression example\n",
    "\n",
    "canEnter = \"You can enter the car\" if age >= 21 else \" You cannot enter the bar\"\n",
    "print(canEnter)"
   ]
  },
  {
   "cell_type": "markdown",
   "id": "d2d6014a-9e34-4db0-98a9-418d5f6d2391",
   "metadata": {},
   "source": [
    "# Nexted IF Statements"
   ]
  },
  {
   "cell_type": "code",
   "execution_count": 17,
   "id": "a0cb57bb-cd08-4ece-a962-c52dc25084fd",
   "metadata": {},
   "outputs": [
    {
     "name": "stdout",
     "output_type": "stream",
     "text": [
      "What is your name? Aidan\n",
      "What year were you born? 2003\n"
     ]
    },
    {
     "name": "stdout",
     "output_type": "stream",
     "text": [
      "Hello Aidan\n",
      "You are 21 years old\n",
      "You can enlist in the service\n"
     ]
    }
   ],
   "source": [
    "userName = input(\"What is your name?\")\n",
    "\n",
    "# Cast input to an integer for age variable\n",
    "\n",
    "userAge = int(input(\"What year were you born?\"))\n",
    "\n",
    "age = 2024 - userAge\n",
    "\n",
    "print(\"Hello \" + userName)\n",
    "\n",
    "# Print the user input casting the age variable back to a string\n",
    "\n",
    "print(\"You are \" + str(age) + \" years old\")\n",
    "\n",
    "# Nested IF example\n",
    "\n",
    "if age >= 18:\n",
    "    if age < 25:\n",
    "        print(\"You can enlist in the service\")\n",
    "    else:\n",
    "        print(\"You are too old to enlist\")\n",
    "else:\n",
    "    print(\"You are not eligible to enlist.\")"
   ]
  },
  {
   "cell_type": "markdown",
   "id": "4bf75df8-0366-4582-a932-9f823c41afa3",
   "metadata": {},
   "source": [
    "# Else-If Statements"
   ]
  },
  {
   "cell_type": "code",
   "execution_count": 20,
   "id": "78a995e3-b7d5-49a6-820a-ce64fae0ac81",
   "metadata": {},
   "outputs": [
    {
     "name": "stdout",
     "output_type": "stream",
     "text": [
      "What is your name? Aidan\n",
      "What year were you born? 1980\n"
     ]
    },
    {
     "name": "stdout",
     "output_type": "stream",
     "text": [
      "Hello Aidan\n",
      "You are 44 years old\n",
      "You are eligible for a drivers license.\n"
     ]
    }
   ],
   "source": [
    "userName = input(\"What is your name?\")\n",
    "\n",
    "# Cast input to an integer for age variable\n",
    "\n",
    "userAge = int(input(\"What year were you born?\"))\n",
    "\n",
    "age = 2024 - userAge\n",
    "\n",
    "print(\"Hello \" + userName)\n",
    "\n",
    "# Print the user input casting the age variable back to a string\n",
    "\n",
    "print(\"You are \" + str(age) + \" years old\")\n",
    "\n",
    "# ELIF example\n",
    "\n",
    "if age < 15:\n",
    "    print(\"You are too young to drive\")\n",
    "elif age >= 15 and age < 16:\n",
    "    print(\"You are eligible for a permit.\")\n",
    "elif age > 16:\n",
    "    print(\"You are eligible for a drivers license.\")\n",
    "# elif age > 25 and age <= 60:\n",
    "#     print(\"You may be eligible for insurance discounts\")\n",
    "else:\n",
    "    print(\"Finished.\")"
   ]
  },
  {
   "cell_type": "markdown",
   "id": "1ff8b7a6-9f69-496f-b139-03c3185374bb",
   "metadata": {},
   "source": [
    "# Case Match Statement Example"
   ]
  },
  {
   "cell_type": "code",
   "execution_count": 23,
   "id": "5525aa7a-aa89-4bf8-a47a-1d54f6901de8",
   "metadata": {},
   "outputs": [
    {
     "name": "stdout",
     "output_type": "stream",
     "text": [
      "What day number (0 to 6) would you like to show? 0\n"
     ]
    },
    {
     "name": "stdout",
     "output_type": "stream",
     "text": [
      "Sunday\n"
     ]
    }
   ],
   "source": [
    "dayToView = int(input(\"What day number (0 to 6) would you like to show?\"))\n",
    "\n",
    "day = dayToView\n",
    "day_of_week = \"\"\n",
    "\n",
    "if day == 0:\n",
    "    day_of_week = \"Sunday\"\n",
    "elif day == 1:\n",
    "    day_of_week = \"Monday\"\n",
    "elif day == 2:\n",
    "    day_of_week = \"Tuesday\"\n",
    "elif day == 3:\n",
    "    day_of_week = \"Wednesday\"\n",
    "elif day == 4:\n",
    "    day_of_week = \"Thursday\"\n",
    "elif day == 5:\n",
    "    day_of_week = \"Friday\"\n",
    "elif day == 6:\n",
    "    day_of_week = \"Saturday\"\n",
    "\n",
    "print(day_of_week)"
   ]
  },
  {
   "cell_type": "markdown",
   "id": "cee598a1-9a2a-47eb-97a6-704325e50e16",
   "metadata": {},
   "source": [
    "# Shortcut Version of Cases"
   ]
  },
  {
   "cell_type": "code",
   "execution_count": null,
   "id": "9b85290a-c3ba-4ddf-84cf-269cdd636918",
   "metadata": {},
   "outputs": [],
   "source": [
    "dayToView = int(input(\"What day number (0 to 6) would you like to show?\"))\n",
    "\n",
    "day = dayToView\n",
    "day_of_week = \"\"\n",
    "\n",
    "case = {\n",
    "    0: \"Sunday\",\n",
    "    1: \"Monday\",\n",
    "    2: \"Tuesday\",\n",
    "    3: \"Wednesday\",\n",
    "    4: \"Thursday\",\n",
    "    5: \"Friday\",\n",
    "    6: \"Saturday\"\n",
    "\n",
    "day_of_week = case.get(day, \"Invalid day\")\n",
    "print(day_of_week)"
   ]
  },
  {
   "cell_type": "markdown",
   "id": "536ab21e-bc0b-42c9-a739-1b6cbb8c3c4c",
   "metadata": {},
   "source": [
    "# ATM Simulator"
   ]
  },
  {
   "cell_type": "code",
   "execution_count": 30,
   "id": "d3344931-72ef-4779-b116-3961f3ce9f94",
   "metadata": {},
   "outputs": [
    {
     "name": "stdout",
     "output_type": "stream",
     "text": [
      "Welcome to the ATM Simulator\n",
      "1. Check Balance\n",
      "2. Withdraw\n",
      "3. Deposit\n",
      "4. Exit\n"
     ]
    },
    {
     "name": "stdout",
     "output_type": "stream",
     "text": [
      "Enter your choice 2\n",
      "Enter the amount to withdraw 300\n"
     ]
    },
    {
     "name": "stdout",
     "output_type": "stream",
     "text": [
      "$300 withdrawn successfully.\n",
      "Your current balanace is $700\n",
      "Welcome to the ATM Simulator\n",
      "1. Check Balance\n",
      "2. Withdraw\n",
      "3. Deposit\n",
      "4. Exit\n"
     ]
    },
    {
     "name": "stdout",
     "output_type": "stream",
     "text": [
      "Enter your choice 3\n",
      "Enter the amount to deposit:  2500\n"
     ]
    },
    {
     "name": "stdout",
     "output_type": "stream",
     "text": [
      "$2500 deposited successfully.\n",
      "Your current balanace is $3200\n",
      "Welcome to the ATM Simulator\n",
      "1. Check Balance\n",
      "2. Withdraw\n",
      "3. Deposit\n",
      "4. Exit\n"
     ]
    },
    {
     "name": "stdout",
     "output_type": "stream",
     "text": [
      "Enter your choice 1\n"
     ]
    },
    {
     "name": "stdout",
     "output_type": "stream",
     "text": [
      "Your current balance is $3200\n",
      "Welcome to the ATM Simulator\n",
      "1. Check Balance\n",
      "2. Withdraw\n",
      "3. Deposit\n",
      "4. Exit\n"
     ]
    },
    {
     "name": "stdout",
     "output_type": "stream",
     "text": [
      "Enter your choice 4\n"
     ]
    },
    {
     "name": "stdout",
     "output_type": "stream",
     "text": [
      "Thank you for using the ATM simulator. Good bye!\n"
     ]
    }
   ],
   "source": [
    "# Initialize an account balance\n",
    "\n",
    "balance = 1000\n",
    "\n",
    "while True:\n",
    "    print(\"Welcome to the ATM Simulator\")\n",
    "    print(\"1. Check Balance\")\n",
    "    print(\"2. Withdraw\")\n",
    "    print(\"3. Deposit\")\n",
    "    print(\"4. Exit\")\n",
    "\n",
    "    choice = int(input(\"Enter your choice\"))\n",
    "    if choice == 1:\n",
    "        print(\"Your current balance is $\" + str(balance))\n",
    "    elif choice == 2:\n",
    "        amount = int(input(\"Enter the amount to withdraw\"))\n",
    "        if amount > balance:\n",
    "            print(\"Insifficinet funds!\")\n",
    "        elif amount <= 0:\n",
    "                print(\"Invalid amount\")\n",
    "        else:\n",
    "                balance -= amount\n",
    "                print(\"$\" + str(amount) + \" withdrawn successfully.\")\n",
    "                print(\"Your current balanace is $\" + str(balance))\n",
    "    elif choice == 3:\n",
    "        amount = int(input(\"Enter the amount to deposit: \"))\n",
    "        if amount <= 0:\n",
    "            print(\"Invalid amount\")\n",
    "        else:\n",
    "            balance += amount\n",
    "            print(\"$\" + str(amount) + \" deposited successfully.\")\n",
    "            print(\"Your current balanace is $\" + str(balance))\n",
    "    elif choice == 4:\n",
    "        print(\"Thank you for using the ATM simulator. Good bye!\")\n",
    "        break\n",
    "    else:\n",
    "        print(\"Invalid choice. Please try again.\")\n",
    "        \n",
    "    "
   ]
  },
  {
   "cell_type": "code",
   "execution_count": null,
   "id": "9531a20e-1645-4302-9036-ae7d8d80b103",
   "metadata": {},
   "outputs": [],
   "source": []
  }
 ],
 "metadata": {
  "kernelspec": {
   "display_name": "base",
   "language": "python",
   "name": "python3"
  },
  "language_info": {
   "codemirror_mode": {
    "name": "ipython",
    "version": 3
   },
   "file_extension": ".py",
   "mimetype": "text/x-python",
   "name": "python",
   "nbconvert_exporter": "python",
   "pygments_lexer": "ipython3",
   "version": "3.12.3"
  }
 },
 "nbformat": 4,
 "nbformat_minor": 5
}
