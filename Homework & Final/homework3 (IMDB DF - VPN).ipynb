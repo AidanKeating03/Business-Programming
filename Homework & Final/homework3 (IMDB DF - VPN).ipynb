{
 "cells": [
  {
   "cell_type": "code",
   "execution_count": 1,
   "metadata": {},
   "outputs": [],
   "source": [
    "import pandas as pd\n",
    "\n",
    "# Import IMDB titles, ratings, names, and crew data\n",
    "\n",
    "dfTitles = pd.read_csv('http://128.198.162.191/pydev/dataFiles/IMDB/titleBasics.tsv', sep='\\t', low_memory = False)\n",
    "dfRatings = pd.read_csv('http://128.198.162.191/pydev/dataFiles/IMDB/ratings.tsv', sep='\\t', low_memory = False)\n",
    "dfNames = pd.read_csv('http://128.198.162.191/pydev/dataFiles/IMDB/nameBasics.tsv', sep='\\t', low_memory = False)\n",
    "dfCrew = pd.read_csv('http://128.198.162.191/pydev/dataFiles/IMDB/crew.tsv', sep='\\t', low_memory = False)\n",
    "\n"
   ]
  },
  {
   "cell_type": "markdown",
   "metadata": {},
   "source": [
    "## Question 1 (Incorrect)"
   ]
  },
  {
   "cell_type": "code",
   "execution_count": 2,
   "metadata": {},
   "outputs": [
    {
     "data": {
      "text/html": [
       "<div>\n",
       "<style scoped>\n",
       "    .dataframe tbody tr th:only-of-type {\n",
       "        vertical-align: middle;\n",
       "    }\n",
       "\n",
       "    .dataframe tbody tr th {\n",
       "        vertical-align: top;\n",
       "    }\n",
       "\n",
       "    .dataframe thead th {\n",
       "        text-align: right;\n",
       "    }\n",
       "</style>\n",
       "<table border=\"1\" class=\"dataframe\">\n",
       "  <thead>\n",
       "    <tr style=\"text-align: right;\">\n",
       "      <th></th>\n",
       "      <th>primaryName</th>\n",
       "      <th>averageRating</th>\n",
       "      <th>numVotes</th>\n",
       "    </tr>\n",
       "  </thead>\n",
       "  <tbody>\n",
       "    <tr>\n",
       "      <th>427</th>\n",
       "      <td>D.W. Griffith</td>\n",
       "      <td>4.8</td>\n",
       "      <td>51.0</td>\n",
       "    </tr>\n",
       "  </tbody>\n",
       "</table>\n",
       "</div>"
      ],
      "text/plain": [
       "       primaryName  averageRating  numVotes\n",
       "427  D.W. Griffith            4.8      51.0"
      ]
     },
     "execution_count": 2,
     "metadata": {},
     "output_type": "execute_result"
    }
   ],
   "source": [
    "# Merge the crew and ratings data sets\n",
    "\n",
    "dirRating = pd.merge(dfRatings, dfCrew)\n",
    "\n",
    "# Concatenate \"dfNames\" data with original two data sets since there are no common column names\n",
    "\n",
    "dirConcat = pd.concat([dirRating, dfNames], axis = 1)\n",
    "\n",
    "# Match \"nconst\" value with \"directors\" value\n",
    "# This command either also forces a match with the \"writers\" value or isn't matching the desired \"nm.....\" values for a reason unknown to me\n",
    "# I tried over a dozen methods: loc, sets, drop (to drop writers column), etc but I could not get past this error\n",
    "\n",
    "nmMatch = (dirConcat.query('directors == nconst'))\n",
    "\n",
    "# Print only the required columns\n",
    "\n",
    "reqColumns = nmMatch[['primaryName', 'averageRating', 'numVotes']]\n",
    "\n",
    "# Sort data by number of votes and average rating (in that order)\n",
    "\n",
    "ratingSort = reqColumns.sort_values(by = ['numVotes', 'averageRating'], ascending = False)\n",
    "\n",
    "# Sorts only the top result \n",
    "\n",
    "question1 = (ratingSort.head(1))\n",
    "\n",
    "# Output is downloaded to a .csv file\n",
    "\n",
    "question1.to_csv('datafiles/question1.csv', index = False)\n",
    "\n",
    "# Prints dataFrame\n",
    "\n",
    "question1"
   ]
  },
  {
   "cell_type": "markdown",
   "metadata": {},
   "source": [
    "### Question 1 (Corrected)"
   ]
  },
  {
   "cell_type": "code",
   "execution_count": 3,
   "metadata": {},
   "outputs": [
    {
     "data": {
      "text/html": [
       "<div>\n",
       "<style scoped>\n",
       "    .dataframe tbody tr th:only-of-type {\n",
       "        vertical-align: middle;\n",
       "    }\n",
       "\n",
       "    .dataframe tbody tr th {\n",
       "        vertical-align: top;\n",
       "    }\n",
       "\n",
       "    .dataframe thead th {\n",
       "        text-align: right;\n",
       "    }\n",
       "</style>\n",
       "<table border=\"1\" class=\"dataframe\">\n",
       "  <thead>\n",
       "    <tr style=\"text-align: right;\">\n",
       "      <th></th>\n",
       "      <th>primaryName</th>\n",
       "      <th>averageRating</th>\n",
       "      <th>numVotes</th>\n",
       "    </tr>\n",
       "  </thead>\n",
       "  <tbody>\n",
       "    <tr>\n",
       "      <th>645417</th>\n",
       "      <td>Rian Johnson</td>\n",
       "      <td>10.0</td>\n",
       "      <td>190975</td>\n",
       "    </tr>\n",
       "  </tbody>\n",
       "</table>\n",
       "</div>"
      ],
      "text/plain": [
       "         primaryName  averageRating  numVotes\n",
       "645417  Rian Johnson           10.0    190975"
      ]
     },
     "execution_count": 3,
     "metadata": {},
     "output_type": "execute_result"
    }
   ],
   "source": [
    "# Merge dfRatings and dfCrew\n",
    "\n",
    "ratingsAndCrew = pd.merge(dfRatings, dfCrew, on = 'tconst')\n",
    "\n",
    "# Rename director to 'nconst'\n",
    "\n",
    "dfCrewRename = ratingsAndCrew.rename(columns = {'directors': 'nconst'})\n",
    "\n",
    "# Merge dfNames with dfRatings and dfCrew\n",
    "\n",
    "ratingsCrewDir = pd.merge(dfCrewRename, dfNames, on = 'nconst')\n",
    "\n",
    "# Sort by average rating and number of votes\n",
    "\n",
    "ratingsCrewDir.sort_values(by = ['averageRating', 'numVotes'], ascending = False)\n",
    "\n",
    "# Output results\n",
    "\n",
    "dir1 = (ratingsCrewDir.sort_values(by = ['averageRating', 'numVotes'], ascending = False))\n",
    "\n",
    "dir2 = dir1[['primaryName', 'averageRating', 'numVotes']]\n",
    "\n",
    "final = (dir2.head(1))\n",
    "\n",
    "final\n",
    "\n",
    "# Write results to a file\n",
    "\n",
    "# final.to.csv('question1.csv', index = False)"
   ]
  },
  {
   "cell_type": "markdown",
   "metadata": {},
   "source": [
    "## Question 2"
   ]
  },
  {
   "cell_type": "code",
   "execution_count": 4,
   "metadata": {},
   "outputs": [
    {
     "data": {
      "text/html": [
       "<div>\n",
       "<style scoped>\n",
       "    .dataframe tbody tr th:only-of-type {\n",
       "        vertical-align: middle;\n",
       "    }\n",
       "\n",
       "    .dataframe tbody tr th {\n",
       "        vertical-align: top;\n",
       "    }\n",
       "\n",
       "    .dataframe thead th {\n",
       "        text-align: right;\n",
       "    }\n",
       "</style>\n",
       "<table border=\"1\" class=\"dataframe\">\n",
       "  <thead>\n",
       "    <tr style=\"text-align: right;\">\n",
       "      <th></th>\n",
       "      <th>startYear</th>\n",
       "      <th>primaryTitle</th>\n",
       "      <th>numVotes</th>\n",
       "      <th>averageRating</th>\n",
       "    </tr>\n",
       "  </thead>\n",
       "  <tbody>\n",
       "    <tr>\n",
       "      <th>116524</th>\n",
       "      <td>2000</td>\n",
       "      <td>Gladiator</td>\n",
       "      <td>1515747</td>\n",
       "      <td>8.5</td>\n",
       "    </tr>\n",
       "    <tr>\n",
       "      <th>134960</th>\n",
       "      <td>2000</td>\n",
       "      <td>Memento</td>\n",
       "      <td>1249899</td>\n",
       "      <td>8.4</td>\n",
       "    </tr>\n",
       "    <tr>\n",
       "      <th>134475</th>\n",
       "      <td>2000</td>\n",
       "      <td>Snatch</td>\n",
       "      <td>864845</td>\n",
       "      <td>8.2</td>\n",
       "    </tr>\n",
       "    <tr>\n",
       "      <th>120345</th>\n",
       "      <td>2000</td>\n",
       "      <td>Requiem for a Dream</td>\n",
       "      <td>851608</td>\n",
       "      <td>8.3</td>\n",
       "    </tr>\n",
       "    <tr>\n",
       "      <th>102120</th>\n",
       "      <td>2000</td>\n",
       "      <td>American Psycho</td>\n",
       "      <td>639139</td>\n",
       "      <td>7.6</td>\n",
       "    </tr>\n",
       "  </tbody>\n",
       "</table>\n",
       "</div>"
      ],
      "text/plain": [
       "       startYear         primaryTitle  numVotes  averageRating\n",
       "116524      2000            Gladiator   1515747            8.5\n",
       "134960      2000              Memento   1249899            8.4\n",
       "134475      2000               Snatch    864845            8.2\n",
       "120345      2000  Requiem for a Dream    851608            8.3\n",
       "102120      2000      American Psycho    639139            7.6"
      ]
     },
     "execution_count": 4,
     "metadata": {},
     "output_type": "execute_result"
    }
   ],
   "source": [
    "# Merge the titles and ratings data sets\n",
    "\n",
    "mvRating = pd.merge(dfRatings, dfTitles)\n",
    "\n",
    "# Print only the required columns\n",
    "\n",
    "reqColumns = mvRating[['startYear', 'primaryTitle', 'numVotes', 'averageRating']]\n",
    "\n",
    "# Sort \"startYear\" column to show the year 2000\n",
    "\n",
    "yearSort = (reqColumns.query('startYear == \"2000\"'))\n",
    "\n",
    "# Sort data by number of votes and average rating (in that order)\n",
    "\n",
    "ratingSort = yearSort.sort_values(by = ['numVotes', 'averageRating'], ascending = False)\n",
    "\n",
    "# Sorts only the top result\n",
    "\n",
    "question2 = (ratingSort.head(5))\n",
    "\n",
    "# Output is downloaded to a .csv file\n",
    " \n",
    "question2.to_csv('datafiles/question2.csv', index = False)\n",
    "\n",
    "# Prints dataFrame\n",
    "\n",
    "question2\n"
   ]
  }
 ],
 "metadata": {
  "kernelspec": {
   "display_name": "base",
   "language": "python",
   "name": "python3"
  },
  "language_info": {
   "codemirror_mode": {
    "name": "ipython",
    "version": 3
   },
   "file_extension": ".py",
   "mimetype": "text/x-python",
   "name": "python",
   "nbconvert_exporter": "python",
   "pygments_lexer": "ipython3",
   "version": "3.12.3"
  }
 },
 "nbformat": 4,
 "nbformat_minor": 2
}
