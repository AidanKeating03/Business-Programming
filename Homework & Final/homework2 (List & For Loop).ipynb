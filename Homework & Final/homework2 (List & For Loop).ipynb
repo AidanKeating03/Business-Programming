{
 "cells": [
  {
   "cell_type": "code",
   "execution_count": 1,
   "id": "20c9acd5-bfef-4c5a-af25-535b52375106",
   "metadata": {},
   "outputs": [
    {
     "name": "stdout",
     "output_type": "stream",
     "text": [
      "Hammers: $11.50\n",
      "Shovels: $25.00\n",
      "Picks: $13.45\n",
      "Buckets: $2.95\n",
      "Rope: $9.99\n"
     ]
    }
   ],
   "source": [
    "# Creates a list of products\n",
    "\n",
    "products = [\"Hammers\", \"Shovels\", \"Picks\", \"Buckets\", \"Rope\"]\n",
    "\n",
    "# Creates a list of prices\n",
    "\n",
    "prices = [11.50, 25.00, 13.45, 2.95, 9.99]\n",
    "\n",
    "# Creates a dictionary that maps the prducts to their pices\n",
    "\n",
    "product_prices = dict(zip(products, prices))\n",
    "\n",
    "# Creates a for loop that uses a .items() method to return pairs from the dictionary as tuples\n",
    "# .2f ensures prices are printed with 2 decimals \n",
    "\n",
    "for products, prices in product_prices.items():\n",
    "    print(f\"{products}: ${prices:.2f}\")\n",
    "\n",
    "\n"
   ]
  }
 ],
 "metadata": {
  "kernelspec": {
   "display_name": "base",
   "language": "python",
   "name": "python3"
  },
  "language_info": {
   "codemirror_mode": {
    "name": "ipython",
    "version": 3
   },
   "file_extension": ".py",
   "mimetype": "text/x-python",
   "name": "python",
   "nbconvert_exporter": "python",
   "pygments_lexer": "ipython3",
   "version": "3.12.3"
  }
 },
 "nbformat": 4,
 "nbformat_minor": 5
}
