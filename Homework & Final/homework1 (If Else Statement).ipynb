{
 "cells": [
  {
   "cell_type": "markdown",
   "id": "724912ff-375c-43b6-9594-fde2fc4fb3bc",
   "metadata": {},
   "source": [
    "# Aidan Keating - Homework 1"
   ]
  },
  {
   "cell_type": "code",
   "execution_count": 13,
   "id": "2d6380fa-ce34-4fac-9c77-d4d1f51c54c5",
   "metadata": {},
   "outputs": [
    {
     "name": "stdout",
     "output_type": "stream",
     "text": [
      "What is the current temperature in fahrenheit? 30\n"
     ]
    },
    {
     "name": "stdout",
     "output_type": "stream",
     "text": [
      "It is cold outside!\n"
     ]
    }
   ],
   "source": [
    "# Variable catches the users input as a float to accommodate numbers that aren't whole\n",
    "\n",
    "currentTemp = float(input(\"What is the current temperature in fahrenheit?\"))\n",
    "\n",
    "# IF and ELIF statements that print various statements dependant on the users input \n",
    "\n",
    "if currentTemp > 85:\n",
    "    print(\"It is hot outside!\")\n",
    "elif currentTemp >= 60 and currentTemp <=85:\n",
    "    print(\"It is warm outside!\")\n",
    "\n",
    "# ELSE statement for any number outside the previous two statement's parameters \n",
    "\n",
    "else:\n",
    "    print(\"It is cold outside!\")"
   ]
  }
 ],
 "metadata": {
  "kernelspec": {
   "display_name": "Python 3 (ipykernel)",
   "language": "python",
   "name": "python3"
  },
  "language_info": {
   "codemirror_mode": {
    "name": "ipython",
    "version": 3
   },
   "file_extension": ".py",
   "mimetype": "text/x-python",
   "name": "python",
   "nbconvert_exporter": "python",
   "pygments_lexer": "ipython3",
   "version": "3.12.3"
  }
 },
 "nbformat": 4,
 "nbformat_minor": 5
}
